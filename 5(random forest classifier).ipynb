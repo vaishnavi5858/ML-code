{
 "cells": [
  {
   "cell_type": "markdown",
   "id": "c4c68a21",
   "metadata": {},
   "source": [
    "Ensemble Learning (Any one)\n",
    "A. Implement Random Forest Classifier model to predict the safety of the car.\n",
    "Dataset link: https://www.kaggle.com/datasets/elikplim/car-evaluation-data-set"
   ]
  },
  {
   "cell_type": "code",
   "execution_count": 1,
   "id": "9f00b15b",
   "metadata": {},
   "outputs": [
    {
     "name": "stdout",
     "output_type": "stream",
     "text": [
      "Accuracy: 0.8872832369942196\n",
      "Classification Report:\n",
      "               precision    recall  f1-score   support\n",
      "\n",
      "       unacc       0.82      0.72      0.77        83\n",
      "         acc       0.33      0.45      0.38        11\n",
      "       vgood       0.94      1.00      0.96       235\n",
      "        good       1.00      0.47      0.64        17\n",
      "\n",
      "    accuracy                           0.89       346\n",
      "   macro avg       0.77      0.66      0.69       346\n",
      "weighted avg       0.89      0.89      0.88       346\n",
      "\n"
     ]
    }
   ],
   "source": [
    "import pandas as pd\n",
    "from sklearn.model_selection import train_test_split\n",
    "from sklearn.ensemble import RandomForestClassifier\n",
    "from sklearn.metrics import accuracy_score, classification_report\n",
    "\n",
    "# Load the dataset\n",
    "data = pd.read_csv(\"car_evaluation.csv\", header=None)\n",
    "\n",
    "# Add column names based on your description\n",
    "columns = [\"buying\", \"maint\", \"doors\", \"persons\", \"lug_boot\", \"safety\", \"class\"]\n",
    "data.columns = columns\n",
    "\n",
    "# Convert categorical features to numerical using one-hot encoding\n",
    "data_encoded = pd.get_dummies(data, columns=columns[:-1], drop_first=True)\n",
    "\n",
    "# Split data into input features (X) and target labels (y)\n",
    "X = data_encoded.drop('class', axis=1)  # 'class_unacc' is one of the target classes\n",
    "y = data_encoded['class']\n",
    "\n",
    "# Split data into training and testing sets\n",
    "X_train, X_test, y_train, y_test = train_test_split(X, y, test_size=0.2, random_state=42)\n",
    "\n",
    "# Create the Random Forest Classifier model\n",
    "rf_classifier = RandomForestClassifier(random_state=42)\n",
    "\n",
    "# Train the model\n",
    "rf_classifier.fit(X_train, y_train)\n",
    "\n",
    "# Make predictions\n",
    "y_pred = rf_classifier.predict(X_test)\n",
    "\n",
    "# Calculate accuracy\n",
    "accuracy = accuracy_score(y_test, y_pred)\n",
    "print(\"Accuracy:\", accuracy)\n",
    "\n",
    "# Generate classification report\n",
    "class_report = classification_report(y_test, y_pred, target_names=data['class'].unique())\n",
    "print(\"Classification Report:\\n\", class_report)\n"
   ]
  }
 ],
 "metadata": {
  "kernelspec": {
   "display_name": "Python 3 (ipykernel)",
   "language": "python",
   "name": "python3"
  },
  "language_info": {
   "codemirror_mode": {
    "name": "ipython",
    "version": 3
   },
   "file_extension": ".py",
   "mimetype": "text/x-python",
   "name": "python",
   "nbconvert_exporter": "python",
   "pygments_lexer": "ipython3",
   "version": "3.11.4"
  }
 },
 "nbformat": 4,
 "nbformat_minor": 5
}
